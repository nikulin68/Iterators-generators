{
 "cells": [
  {
   "cell_type": "code",
   "execution_count": 1,
   "metadata": {},
   "outputs": [
    {
     "name": "stdout",
     "output_type": "stream",
     "text": [
      "a\n",
      "b\n",
      "c\n",
      "d\n",
      "e\n",
      "f\n",
      "h\n",
      "False\n",
      "1\n",
      "2\n",
      "None\n",
      "['a', 'b', 'c', 'd', 'e', 'f', 'h', False, 1, 2, None]\n"
     ]
    }
   ],
   "source": [
    "nested_list = [\n",
    "    ['a', 'b', 'c'],\n",
    "    ['d', 'e', 'f', 'h', False],\n",
    "    [1, 2, None]\n",
    "]\n",
    "\n",
    "class FlatIterator:\n",
    "    list_iterable = []\n",
    "\n",
    "    def __init__(self, list_: list):\n",
    "        self.list_ = list_\n",
    "\n",
    "    def __iter__(self):\n",
    "        self.extraction_list(self.list_)\n",
    "        return self\n",
    "\n",
    "    def __next__(self):\n",
    "        if not self.list_iterable:\n",
    "            raise StopIteration\n",
    "        return self.list_iterable.pop(0)\n",
    "\n",
    "    def extraction_list(self, origin_list):\n",
    "        for item in origin_list:\n",
    "            if isinstance(item, list):\n",
    "                self.extraction_list(item)\n",
    "                continue\n",
    "            else:\n",
    "                self.list_iterable.append(item)\n",
    "\n",
    "\n",
    "for item in FlatIterator(nested_list):\n",
    "    print(item)\n",
    "\n",
    "flat_list = [item for item in FlatIterator(nested_list)]\n",
    "print(flat_list)"
   ]
  }
 ],
 "metadata": {
  "interpreter": {
   "hash": "31f2aee4e71d21fbe5cf8b01ff0e069b9275f58929596ceb00d14d90e3e16cd6"
  },
  "kernelspec": {
   "display_name": "Python 3.8.9 64-bit",
   "language": "python",
   "name": "python3"
  },
  "language_info": {
   "codemirror_mode": {
    "name": "ipython",
    "version": 3
   },
   "file_extension": ".py",
   "mimetype": "text/x-python",
   "name": "python",
   "nbconvert_exporter": "python",
   "pygments_lexer": "ipython3",
   "version": "3.8.9"
  },
  "orig_nbformat": 4
 },
 "nbformat": 4,
 "nbformat_minor": 2
}
