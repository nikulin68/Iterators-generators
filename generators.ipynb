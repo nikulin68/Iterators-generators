{
 "cells": [
  {
   "cell_type": "code",
   "execution_count": 1,
   "metadata": {},
   "outputs": [
    {
     "name": "stdout",
     "output_type": "stream",
     "text": [
      "a\n",
      "b\n",
      "c\n",
      "d\n",
      "e\n",
      "f\n",
      "1\n",
      "2\n",
      "None\n",
      "['a', 'b', 'c', 'd', 'e', 'f', 1, 2, None]\n"
     ]
    }
   ],
   "source": [
    "nested_list = [\n",
    "    ['a', 'b', 'c'],\n",
    "    ['d', 'e', 'f'],\n",
    "    [1, 2, None]\n",
    "]\n",
    "\n",
    "def flat_generator(target_list):\n",
    "    for item in target_list:\n",
    "        if isinstance(item, list):\n",
    "            yield from flat_generator(item)\n",
    "        else:\n",
    "            yield item\n",
    "\n",
    "for item in flat_generator(nested_list):\n",
    "    print(item)\n",
    "\n",
    "flat_list = [item for item in flat_generator(nested_list)]\n",
    "print(flat_list)"
   ]
  }
 ],
 "metadata": {
  "interpreter": {
   "hash": "31f2aee4e71d21fbe5cf8b01ff0e069b9275f58929596ceb00d14d90e3e16cd6"
  },
  "kernelspec": {
   "display_name": "Python 3.8.9 64-bit",
   "language": "python",
   "name": "python3"
  },
  "language_info": {
   "codemirror_mode": {
    "name": "ipython",
    "version": 3
   },
   "file_extension": ".py",
   "mimetype": "text/x-python",
   "name": "python",
   "nbconvert_exporter": "python",
   "pygments_lexer": "ipython3",
   "version": "3.8.9"
  },
  "orig_nbformat": 4
 },
 "nbformat": 4,
 "nbformat_minor": 2
}
